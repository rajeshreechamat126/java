{
 "cells": [
  {
   "cell_type": "code",
   "execution_count": null,
   "id": "d4a5a970",
   "metadata": {},
   "outputs": [],
   "source": []
  },
  {
   "cell_type": "code",
   "execution_count": null,
   "id": "d518c9c6",
   "metadata": {},
   "outputs": [],
   "source": [
    "Q1\n",
    "Given an integer array nums, move all 0's to the end of it while maintaining the relative order of the non-zero elements.\n",
    "\n",
    "Note that you must do this in-place without making a copy of the array.\n",
    "\n",
    "Example 1:\n",
    "Input: nums = [0,1,0,3,12]\n",
    "Output: [1,3,12,0,0]\n",
    "\n",
    "Example 2:\n",
    "Input: nums = [0]\n",
    "Output: [0]\n",
    "\n",
    "Constraints:\n",
    "a. 1 <= nums.length <= 10^4\n",
    "b. -2^31 <= nums[i] <= 2^31 - 1\n"
   ]
  },
  {
   "cell_type": "code",
   "execution_count": null,
   "id": "35ab97d7",
   "metadata": {},
   "outputs": [],
   "source": [
    "class Solution {\n",
    "    public void moveZeroes(int[] a) {\n",
    "       \n",
    "        int i=0,j=0;\n",
    "        \n",
    "        // t stores the index of the last element, which will be (number of elements - 1) as array index starts from 0.\n",
    "        int t=a.length-1;\n",
    "        while(i<=t)\n",
    "        {\n",
    "            if(a[i]!=0)\n",
    "            {\n",
    "                //copying only the non-zero elements in the original array itself as need to keep it in-place\n",
    "                a[j++]=a[i]; \n",
    "            }\n",
    "            i++;\n",
    "        }\n",
    "        \n",
    "        // counting the number of zeroes, which will be equal to the total numbers - the non zero numbers.\n",
    "        j=t-j+1;\n",
    "        \n",
    "\n",
    "        //filling the remaining array with the zeros starting from end.\n",
    "        while(j!=0)\n",
    "        {\n",
    "            a[t--]=0;\n",
    "            j--;\n",
    "        }\n",
    "    }     \n",
    "}"
   ]
  }
 ],
 "metadata": {
  "kernelspec": {
   "display_name": "Python 3 (ipykernel)",
   "language": "python",
   "name": "python3"
  },
  "language_info": {
   "codemirror_mode": {
    "name": "ipython",
    "version": 3
   },
   "file_extension": ".py",
   "mimetype": "text/x-python",
   "name": "python",
   "nbconvert_exporter": "python",
   "pygments_lexer": "ipython3",
   "version": "3.9.13"
  }
 },
 "nbformat": 4,
 "nbformat_minor": 5
}
